{
 "cells": [
  {
   "cell_type": "markdown",
   "metadata": {},
   "source": [
    "# Intrduction to NumPy\n",
    "\n",
    "\n",
    "#### 1. Import NumPy under the name np."
   ]
  },
  {
   "cell_type": "code",
   "execution_count": 1,
   "metadata": {},
   "outputs": [],
   "source": [
    "# your code here\n",
    "import numpy as np"
   ]
  },
  {
   "cell_type": "markdown",
   "metadata": {},
   "source": [
    "#### 2. Print your NumPy version."
   ]
  },
  {
   "cell_type": "code",
   "execution_count": 2,
   "metadata": {},
   "outputs": [
    {
     "name": "stdout",
     "output_type": "stream",
     "text": [
      "1.21.5\n"
     ]
    }
   ],
   "source": [
    "# your code here\n",
    "print(np.__version__)"
   ]
  },
  {
   "cell_type": "markdown",
   "metadata": {},
   "source": [
    "#### 3. Generate a 2x3x5 3-dimensional array with random values. Assign the array to variable *a*.\n",
    "**Challenge**: there are at least three easy ways that use numpy to generate random arrays. How many ways can you find?"
   ]
  },
  {
   "cell_type": "code",
   "execution_count": 3,
   "metadata": {},
   "outputs": [
    {
     "data": {
      "text/plain": [
       "array([[[0.92793031, 0.1686559 , 0.02456676, 0.32124672, 0.50224933],\n",
       "        [0.30523033, 0.52741406, 0.96025758, 0.76637816, 0.57054982],\n",
       "        [0.20163958, 0.34261847, 0.58096039, 0.89868164, 0.9976183 ]],\n",
       "\n",
       "       [[0.26394711, 0.50373627, 0.45669896, 0.22539142, 0.59737341],\n",
       "        [0.77513905, 0.62752443, 0.30052417, 0.47706185, 0.04565263],\n",
       "        [0.29618915, 0.27090248, 0.99158882, 0.46847726, 0.30004867]]])"
      ]
     },
     "execution_count": 3,
     "metadata": {},
     "output_type": "execute_result"
    }
   ],
   "source": [
    "# Method 1\n",
    "a=np.random.random(size=(2,3,5))\n",
    "a"
   ]
  },
  {
   "cell_type": "code",
   "execution_count": 4,
   "metadata": {},
   "outputs": [],
   "source": [
    "# Method 2"
   ]
  },
  {
   "cell_type": "code",
   "execution_count": 5,
   "metadata": {},
   "outputs": [],
   "source": [
    "# Method 3"
   ]
  },
  {
   "cell_type": "markdown",
   "metadata": {},
   "source": [
    "#### 4. Print *a*.\n"
   ]
  },
  {
   "cell_type": "code",
   "execution_count": 6,
   "metadata": {},
   "outputs": [
    {
     "name": "stdout",
     "output_type": "stream",
     "text": [
      "[[[0.92793031 0.1686559  0.02456676 0.32124672 0.50224933]\n",
      "  [0.30523033 0.52741406 0.96025758 0.76637816 0.57054982]\n",
      "  [0.20163958 0.34261847 0.58096039 0.89868164 0.9976183 ]]\n",
      "\n",
      " [[0.26394711 0.50373627 0.45669896 0.22539142 0.59737341]\n",
      "  [0.77513905 0.62752443 0.30052417 0.47706185 0.04565263]\n",
      "  [0.29618915 0.27090248 0.99158882 0.46847726 0.30004867]]]\n"
     ]
    }
   ],
   "source": [
    "# your code here\n",
    "print(a)"
   ]
  },
  {
   "cell_type": "markdown",
   "metadata": {},
   "source": [
    "#### 5. Create a 5x2x3 3-dimensional array with all values equaling 1. Assign the array to variable *b*."
   ]
  },
  {
   "cell_type": "code",
   "execution_count": 7,
   "metadata": {},
   "outputs": [
    {
     "data": {
      "text/plain": [
       "array([[[1., 1., 1.],\n",
       "        [1., 1., 1.]],\n",
       "\n",
       "       [[1., 1., 1.],\n",
       "        [1., 1., 1.]],\n",
       "\n",
       "       [[1., 1., 1.],\n",
       "        [1., 1., 1.]],\n",
       "\n",
       "       [[1., 1., 1.],\n",
       "        [1., 1., 1.]],\n",
       "\n",
       "       [[1., 1., 1.],\n",
       "        [1., 1., 1.]]])"
      ]
     },
     "execution_count": 7,
     "metadata": {},
     "output_type": "execute_result"
    }
   ],
   "source": [
    "# your code here\n",
    "b=np.ones((5,2,3))\n",
    "b"
   ]
  },
  {
   "cell_type": "markdown",
   "metadata": {},
   "source": [
    "#### 6. Print *b*.\n"
   ]
  },
  {
   "cell_type": "code",
   "execution_count": 8,
   "metadata": {},
   "outputs": [
    {
     "name": "stdout",
     "output_type": "stream",
     "text": [
      "[[[1. 1. 1.]\n",
      "  [1. 1. 1.]]\n",
      "\n",
      " [[1. 1. 1.]\n",
      "  [1. 1. 1.]]\n",
      "\n",
      " [[1. 1. 1.]\n",
      "  [1. 1. 1.]]\n",
      "\n",
      " [[1. 1. 1.]\n",
      "  [1. 1. 1.]]\n",
      "\n",
      " [[1. 1. 1.]\n",
      "  [1. 1. 1.]]]\n"
     ]
    }
   ],
   "source": [
    "# your code here\n",
    "print(b)"
   ]
  },
  {
   "cell_type": "markdown",
   "metadata": {},
   "source": [
    "#### 7. Do *a* and *b* have the same size? How do you prove that in Python code?"
   ]
  },
  {
   "cell_type": "code",
   "execution_count": 9,
   "metadata": {},
   "outputs": [
    {
     "name": "stdout",
     "output_type": "stream",
     "text": [
      "(2, 3, 5)\n",
      "(5, 2, 3)\n"
     ]
    }
   ],
   "source": [
    "# your code here\n",
    "print(a.shape)\n",
    "print(b.shape)\n"
   ]
  },
  {
   "cell_type": "markdown",
   "metadata": {},
   "source": [
    "#### 8. Are you able to add *a* and *b*? Why or why not?\n",
    "\n"
   ]
  },
  {
   "cell_type": "code",
   "execution_count": 10,
   "metadata": {},
   "outputs": [],
   "source": [
    "# your answer here\n",
    "#WE need to reshape them so they have the same shape"
   ]
  },
  {
   "cell_type": "markdown",
   "metadata": {},
   "source": [
    "#### 9. Transpose *b* so that it has the same structure of *a* (i.e. become a 2x3x5 array). Assign the transposed array to variable *c*."
   ]
  },
  {
   "cell_type": "code",
   "execution_count": 11,
   "metadata": {},
   "outputs": [
    {
     "data": {
      "text/plain": [
       "array([[[1., 1., 1., 1., 1.],\n",
       "        [1., 1., 1., 1., 1.],\n",
       "        [1., 1., 1., 1., 1.]],\n",
       "\n",
       "       [[1., 1., 1., 1., 1.],\n",
       "        [1., 1., 1., 1., 1.],\n",
       "        [1., 1., 1., 1., 1.]]])"
      ]
     },
     "execution_count": 11,
     "metadata": {},
     "output_type": "execute_result"
    }
   ],
   "source": [
    "# your code here\n",
    "c=b.reshape(2,3,5)\n",
    "c"
   ]
  },
  {
   "cell_type": "markdown",
   "metadata": {},
   "source": [
    "#### 10. Try to add *a* and *c*. Now it should work. Assign the sum to variable *d*. But why does it work now?"
   ]
  },
  {
   "cell_type": "code",
   "execution_count": 12,
   "metadata": {},
   "outputs": [
    {
     "data": {
      "text/plain": [
       "array([[[1.92793031, 1.1686559 , 1.02456676, 1.32124672, 1.50224933],\n",
       "        [1.30523033, 1.52741406, 1.96025758, 1.76637816, 1.57054982],\n",
       "        [1.20163958, 1.34261847, 1.58096039, 1.89868164, 1.9976183 ]],\n",
       "\n",
       "       [[1.26394711, 1.50373627, 1.45669896, 1.22539142, 1.59737341],\n",
       "        [1.77513905, 1.62752443, 1.30052417, 1.47706185, 1.04565263],\n",
       "        [1.29618915, 1.27090248, 1.99158882, 1.46847726, 1.30004867]]])"
      ]
     },
     "execution_count": 12,
     "metadata": {},
     "output_type": "execute_result"
    }
   ],
   "source": [
    "# your code/answer here\n",
    "d=a + c\n",
    "d\n",
    "\n",
    "#it works because the arrays have the same shape now"
   ]
  },
  {
   "cell_type": "markdown",
   "metadata": {},
   "source": [
    "#### 11. Print *a* and *d*. Notice the difference and relation of the two array in terms of the values? Explain."
   ]
  },
  {
   "cell_type": "code",
   "execution_count": 13,
   "metadata": {},
   "outputs": [
    {
     "name": "stdout",
     "output_type": "stream",
     "text": [
      "[[[0.92793031 0.1686559  0.02456676 0.32124672 0.50224933]\n",
      "  [0.30523033 0.52741406 0.96025758 0.76637816 0.57054982]\n",
      "  [0.20163958 0.34261847 0.58096039 0.89868164 0.9976183 ]]\n",
      "\n",
      " [[0.26394711 0.50373627 0.45669896 0.22539142 0.59737341]\n",
      "  [0.77513905 0.62752443 0.30052417 0.47706185 0.04565263]\n",
      "  [0.29618915 0.27090248 0.99158882 0.46847726 0.30004867]]]\n",
      "[[[1.92793031 1.1686559  1.02456676 1.32124672 1.50224933]\n",
      "  [1.30523033 1.52741406 1.96025758 1.76637816 1.57054982]\n",
      "  [1.20163958 1.34261847 1.58096039 1.89868164 1.9976183 ]]\n",
      "\n",
      " [[1.26394711 1.50373627 1.45669896 1.22539142 1.59737341]\n",
      "  [1.77513905 1.62752443 1.30052417 1.47706185 1.04565263]\n",
      "  [1.29618915 1.27090248 1.99158882 1.46847726 1.30004867]]]\n"
     ]
    }
   ],
   "source": [
    "# your code/answer here\n",
    "print(a)\n",
    "print(d)\n",
    "\n",
    "#the difference is the value one, coming from the table c. From the addition of the two arrays"
   ]
  },
  {
   "cell_type": "markdown",
   "metadata": {},
   "source": [
    "#### 12. Multiply *a* and *c*. Assign the result to *e*."
   ]
  },
  {
   "cell_type": "code",
   "execution_count": 14,
   "metadata": {},
   "outputs": [
    {
     "name": "stdout",
     "output_type": "stream",
     "text": [
      "[[[0.92793031 0.1686559  0.02456676 0.32124672 0.50224933]\n",
      "  [0.30523033 0.52741406 0.96025758 0.76637816 0.57054982]\n",
      "  [0.20163958 0.34261847 0.58096039 0.89868164 0.9976183 ]]\n",
      "\n",
      " [[0.26394711 0.50373627 0.45669896 0.22539142 0.59737341]\n",
      "  [0.77513905 0.62752443 0.30052417 0.47706185 0.04565263]\n",
      "  [0.29618915 0.27090248 0.99158882 0.46847726 0.30004867]]]\n"
     ]
    }
   ],
   "source": [
    "# your code here\n",
    "e = a*c\n",
    "print(e)"
   ]
  },
  {
   "cell_type": "markdown",
   "metadata": {},
   "source": [
    "#### 13. Does *e* equal to *a*? Why or why not?\n"
   ]
  },
  {
   "cell_type": "code",
   "execution_count": 15,
   "metadata": {},
   "outputs": [],
   "source": [
    "# your code/answer here\n",
    "#yes, because the values of a were multitplied by 1, which are the values of c"
   ]
  },
  {
   "cell_type": "markdown",
   "metadata": {},
   "source": [
    "#### 14. Identify the max, min, and mean values in *d*. Assign those values to variables *d_max*, *d_min* and *d_mean*."
   ]
  },
  {
   "cell_type": "code",
   "execution_count": 16,
   "metadata": {},
   "outputs": [
    {
     "name": "stdout",
     "output_type": "stream",
     "text": [
      "1.9976183047175762\n",
      "1.0245667641278469\n",
      "1.4898751017950311\n"
     ]
    }
   ],
   "source": [
    "# your code here\n",
    "d_max=d.max()\n",
    "print(d_max)\n",
    "d_min=d.min()\n",
    "print(d_min)\n",
    "d_mean=d.mean()\n",
    "print(d_mean)"
   ]
  },
  {
   "cell_type": "markdown",
   "metadata": {},
   "source": [
    "#### 15. Now we want to label the values in *d*. First create an empty array *f* with the same shape (i.e. 2x3x5) as *d* using `np.empty`.\n"
   ]
  },
  {
   "cell_type": "code",
   "execution_count": 17,
   "metadata": {},
   "outputs": [
    {
     "name": "stdout",
     "output_type": "stream",
     "text": [
      "[[[0.92793031 0.1686559  0.02456676 0.32124672 0.50224933]\n",
      "  [0.30523033 0.52741406 0.96025758 0.76637816 0.57054982]\n",
      "  [0.20163958 0.34261847 0.58096039 0.89868164 0.9976183 ]]\n",
      "\n",
      " [[0.26394711 0.50373627 0.45669896 0.22539142 0.59737341]\n",
      "  [0.77513905 0.62752443 0.30052417 0.47706185 0.04565263]\n",
      "  [0.29618915 0.27090248 0.99158882 0.46847726 0.30004867]]]\n"
     ]
    }
   ],
   "source": [
    "# your code here\n",
    "\n",
    "f=np.empty((2,3,5))\n",
    "print(f)"
   ]
  },
  {
   "cell_type": "markdown",
   "metadata": {},
   "source": [
    "#### 16. Populate the values in *f*. \n",
    "\n",
    "For each value in *d*, if it's larger than *d_min* but smaller than *d_mean*, assign 25 to the corresponding value in *f*. If a value in *d* is larger than *d_mean* but smaller than *d_max*, assign 75 to the corresponding value in *f*. If a value equals to *d_mean*, assign 50 to the corresponding value in *f*. Assign 0 to the corresponding value(s) in *f* for *d_min* in *d*. Assign 100 to the corresponding value(s) in *f* for *d_max* in *d*. In the end, f should have only the following values: 0, 25, 50, 75, and 100.\n",
    "\n",
    "**Note**: you don't have to use Numpy in this question."
   ]
  },
  {
   "cell_type": "code",
   "execution_count": 18,
   "metadata": {},
   "outputs": [
    {
     "name": "stdout",
     "output_type": "stream",
     "text": [
      "[[[1.92793031 1.1686559  1.02456676 1.32124672 1.50224933]\n",
      "  [1.30523033 1.52741406 1.96025758 1.76637816 1.57054982]\n",
      "  [1.20163958 1.34261847 1.58096039 1.89868164 1.9976183 ]]\n",
      "\n",
      " [[1.26394711 1.50373627 1.45669896 1.22539142 1.59737341]\n",
      "  [1.77513905 1.62752443 1.30052417 1.47706185 1.04565263]\n",
      "  [1.29618915 1.27090248 1.99158882 1.46847726 1.30004867]]]\n",
      "[[[ 75.  25.   0.  25.  75.]\n",
      "  [ 25.  75.  75.  75.  75.]\n",
      "  [ 25.  25.  75.  75. 100.]]\n",
      "\n",
      " [[ 25.  75.  25.  25.  75.]\n",
      "  [ 75.  75.  25.  25.  25.]\n",
      "  [ 25.  25.  75.  25.  25.]]]\n"
     ]
    }
   ],
   "source": [
    "# your code here\n",
    "grp,row,col=f.shape\n",
    "\n",
    "for i in range(0,grp):\n",
    "    for j in range(0,row):\n",
    "        for z in range(0,col):\n",
    "            #print(d[i,j,z])\n",
    "            if (d[i,j,z] > d_min) & (d[i,j,z] < d_mean):\n",
    "                f[i,j,z] = 25\n",
    "            elif (d[i,j,z] > d_mean) & (d[i,j,z] < d_max):\n",
    "                f[i,j,z] = 75\n",
    "            elif d[i,j,z] == d_mean:\n",
    "                f[i,j,z] = 50\n",
    "            elif d[i,j,z] == d_min:\n",
    "                f[i,j,z] = 0\n",
    "            elif d[i,j,z] == d_max:\n",
    "                f[i,j,z] = 100\n",
    "\n",
    "print(d)\n",
    "print(f)\n",
    "# 1.9908695280774955\n",
    "# 1.5455441312258502\n",
    "\n"
   ]
  },
  {
   "cell_type": "markdown",
   "metadata": {},
   "source": [
    "#### 17. Print *d* and *f*. Do you have your expected *f*?\n",
    "For instance, if your *d* is:\n",
    "```python\n",
    "[[[1.85836099, 1.67064465, 1.62576044, 1.40243961, 1.88454931],\n",
    "[1.75354326, 1.69403643, 1.36729252, 1.61415071, 1.12104981],\n",
    "[1.72201435, 1.1862918 , 1.87078449, 1.7726778 , 1.88180042]],\n",
    "[[1.44747908, 1.31673383, 1.02000951, 1.52218947, 1.97066381],\n",
    "[1.79129243, 1.74983003, 1.96028037, 1.85166831, 1.65450881],\n",
    "[1.18068344, 1.9587381 , 1.00656599, 1.93402165, 1.73514584]]]\n",
    "```\n",
    "Your *f* should be:\n",
    "```python\n",
    "[[[ 75.,  75.,  75.,  25.,  75.],\n",
    "[ 75.,  75.,  25.,  25.,  25.],\n",
    "[ 75.,  25.,  75.,  75.,  75.]],\n",
    "[[ 25.,  25.,  25.,  25., 100.],\n",
    "[ 75.,  75.,  75.,  75.,  75.],\n",
    "[ 25.,  75.,   0.,  75.,  75.]]]\n",
    "```"
   ]
  },
  {
   "cell_type": "code",
   "execution_count": 19,
   "metadata": {},
   "outputs": [
    {
     "name": "stdout",
     "output_type": "stream",
     "text": [
      "[[[1.92793031 1.1686559  1.02456676 1.32124672 1.50224933]\n",
      "  [1.30523033 1.52741406 1.96025758 1.76637816 1.57054982]\n",
      "  [1.20163958 1.34261847 1.58096039 1.89868164 1.9976183 ]]\n",
      "\n",
      " [[1.26394711 1.50373627 1.45669896 1.22539142 1.59737341]\n",
      "  [1.77513905 1.62752443 1.30052417 1.47706185 1.04565263]\n",
      "  [1.29618915 1.27090248 1.99158882 1.46847726 1.30004867]]]\n",
      "[[[ 75.  25.   0.  25.  75.]\n",
      "  [ 25.  75.  75.  75.  75.]\n",
      "  [ 25.  25.  75.  75. 100.]]\n",
      "\n",
      " [[ 25.  75.  25.  25.  75.]\n",
      "  [ 75.  75.  25.  25.  25.]\n",
      "  [ 25.  25.  75.  25.  25.]]]\n"
     ]
    }
   ],
   "source": [
    "# your code here\n",
    "print(d)\n",
    "print(f)"
   ]
  },
  {
   "cell_type": "markdown",
   "metadata": {},
   "source": [
    "#### 18. Bonus question: instead of using numbers (i.e. 0, 25, 50, 75, and 100), use string values  (\"A\", \"B\", \"C\", \"D\", and \"E\") to label the array elements. For the example above, the expected result is:\n",
    "\n",
    "```python\n",
    "[[[ 'D',  'D',  'D',  'B',  'D'],\n",
    "[ 'D',  'D',  'B',  'B',  'B'],\n",
    "[ 'D',  'B',  'D',  'D',  'D']],\n",
    "[[ 'B',  'B',  'B',  'B',  'E'],\n",
    "[ 'D',  'D',  'D',  'D',  'D'],\n",
    "[ 'B',  'D',   'A',  'D', 'D']]]\n",
    "```\n",
    "**Note**: you don't have to use Numpy in this question."
   ]
  },
  {
   "cell_type": "code",
   "execution_count": 22,
   "metadata": {},
   "outputs": [
    {
     "name": "stdout",
     "output_type": "stream",
     "text": [
      "[[[1.92793031 1.1686559  1.02456676 1.32124672 1.50224933]\n",
      "  [1.30523033 1.52741406 1.96025758 1.76637816 1.57054982]\n",
      "  [1.20163958 1.34261847 1.58096039 1.89868164 1.9976183 ]]\n",
      "\n",
      " [[1.26394711 1.50373627 1.45669896 1.22539142 1.59737341]\n",
      "  [1.77513905 1.62752443 1.30052417 1.47706185 1.04565263]\n",
      "  [1.29618915 1.27090248 1.99158882 1.46847726 1.30004867]]]\n",
      "[[['B' 'A' 'D' 'A' 'B']\n",
      "  ['A' 'B' 'B' 'B' 'B']\n",
      "  ['A' 'A' 'B' 'B' 'E']]\n",
      "\n",
      " [['A' 'B' 'A' 'A' 'B']\n",
      "  ['B' 'B' 'A' 'A' 'A']\n",
      "  ['A' 'A' 'B' 'A' 'A']]]\n"
     ]
    }
   ],
   "source": [
    "# your code here\n",
    "\n",
    "from numpy import dtype\n",
    "\n",
    "\n",
    "f = np.array(f, dtype=object)\n",
    "\n",
    "grp,row,col=f.shape\n",
    "\n",
    "for i in range(0,grp):\n",
    "    for j in range(0,row):\n",
    "        for z in range(0,col):\n",
    "            #print(d[i,j,z])\n",
    "            if (d[i,j,z] > d_min) & (d[i,j,z] < d_mean):\n",
    "                f[i,j,z] = \"A\"\n",
    "            elif (d[i,j,z] > d_mean) & (d[i,j,z] < d_max):\n",
    "                f[i,j,z] = \"B\"\n",
    "            elif d[i,j,z] == d_mean:\n",
    "                f[i,j,z] = \"C\"\n",
    "            elif d[i,j,z] == d_min:\n",
    "                f[i,j,z] = \"D\"\n",
    "            elif d[i,j,z] == d_max:\n",
    "                f[i,j,z] = \"E\"\n",
    "\n",
    "print(d)\n",
    "print(f)"
   ]
  },
  {
   "cell_type": "code",
   "execution_count": null,
   "metadata": {},
   "outputs": [],
   "source": []
  }
 ],
 "metadata": {
  "kernelspec": {
   "display_name": "Python 3.9.12 ('base')",
   "language": "python",
   "name": "python3"
  },
  "language_info": {
   "codemirror_mode": {
    "name": "ipython",
    "version": 3
   },
   "file_extension": ".py",
   "mimetype": "text/x-python",
   "name": "python",
   "nbconvert_exporter": "python",
   "pygments_lexer": "ipython3",
   "version": "3.9.12"
  },
  "vscode": {
   "interpreter": {
    "hash": "48f3b89e57976652560e9706fcaa660b5351e25bb11af495901461f7b74304cc"
   }
  }
 },
 "nbformat": 4,
 "nbformat_minor": 2
}
