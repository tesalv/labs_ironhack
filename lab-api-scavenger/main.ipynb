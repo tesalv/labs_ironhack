{
 "cells": [
  {
   "cell_type": "markdown",
   "metadata": {},
   "source": [
    "### Challenge 1: Fork Languages"
   ]
  },
  {
   "cell_type": "code",
   "execution_count": 1,
   "metadata": {},
   "outputs": [],
   "source": [
    "import pandas as pd\n",
    "import requests"
   ]
  },
  {
   "cell_type": "code",
   "execution_count": 7,
   "metadata": {},
   "outputs": [
    {
     "data": {
      "text/plain": [
       "200"
      ]
     },
     "execution_count": 7,
     "metadata": {},
     "output_type": "execute_result"
    }
   ],
   "source": [
    "url=\"https://api.github.com/repos/ironhack-datalabs/mad-oct-2018/languages\"\n",
    "\n",
    "response= requests.get(url=url)\n",
    "\n",
    "response.status_code\n"
   ]
  },
  {
   "cell_type": "code",
   "execution_count": 8,
   "metadata": {},
   "outputs": [
    {
     "data": {
      "text/plain": [
       "{'Jupyter Notebook': 1134241, 'HTML': 498316, 'Python': 8691}"
      ]
     },
     "execution_count": 8,
     "metadata": {},
     "output_type": "execute_result"
    }
   ],
   "source": [
    "response.json()"
   ]
  },
  {
   "cell_type": "code",
   "execution_count": 16,
   "metadata": {},
   "outputs": [
    {
     "data": {
      "text/plain": [
       "['Jupyter Notebook', 'HTML', 'Python']"
      ]
     },
     "execution_count": 16,
     "metadata": {},
     "output_type": "execute_result"
    }
   ],
   "source": [
    "lang=[key for key in response.json().keys()]\n",
    "lang"
   ]
  },
  {
   "cell_type": "markdown",
   "metadata": {},
   "source": [
    "### Challenge 2: Count Commits"
   ]
  },
  {
   "cell_type": "code",
   "execution_count": 30,
   "metadata": {},
   "outputs": [
    {
     "data": {
      "text/plain": [
       "200"
      ]
     },
     "execution_count": 30,
     "metadata": {},
     "output_type": "execute_result"
    }
   ],
   "source": [
    "url=\"https://api.github.com/repos/tesalv/lab-list-comprehensions/commits\"\n",
    "\n",
    "response= requests.get(url=url)\n",
    "\n",
    "response.status_code"
   ]
  },
  {
   "cell_type": "code",
   "execution_count": 37,
   "metadata": {},
   "outputs": [
    {
     "data": {
      "text/html": [
       "<div>\n",
       "<style scoped>\n",
       "    .dataframe tbody tr th:only-of-type {\n",
       "        vertical-align: middle;\n",
       "    }\n",
       "\n",
       "    .dataframe tbody tr th {\n",
       "        vertical-align: top;\n",
       "    }\n",
       "\n",
       "    .dataframe thead th {\n",
       "        text-align: right;\n",
       "    }\n",
       "</style>\n",
       "<table border=\"1\" class=\"dataframe\">\n",
       "  <thead>\n",
       "    <tr style=\"text-align: right;\">\n",
       "      <th></th>\n",
       "      <th>sha</th>\n",
       "      <th>node_id</th>\n",
       "      <th>commit</th>\n",
       "      <th>url</th>\n",
       "      <th>html_url</th>\n",
       "      <th>comments_url</th>\n",
       "      <th>author</th>\n",
       "      <th>committer</th>\n",
       "      <th>parents</th>\n",
       "    </tr>\n",
       "  </thead>\n",
       "  <tbody>\n",
       "    <tr>\n",
       "      <th>0</th>\n",
       "      <td>6bda218d6c132c935162b6856eb18b48d997765b</td>\n",
       "      <td>C_kwDOIHyCS9oAKDZiZGEyMThkNmMxMzJjOTM1MTYyYjY4...</td>\n",
       "      <td>{'author': {'name': 'Teresa Salvador', 'email'...</td>\n",
       "      <td>https://api.github.com/repos/tesalv/lab-list-c...</td>\n",
       "      <td>https://github.com/tesalv/lab-list-comprehensi...</td>\n",
       "      <td>https://api.github.com/repos/tesalv/lab-list-c...</td>\n",
       "      <td>{'login': 'tesalv', 'id': 90050968, 'node_id':...</td>\n",
       "      <td>{'login': 'tesalv', 'id': 90050968, 'node_id':...</td>\n",
       "      <td>[{'sha': 'cb88a7cb0e4ead78d0b57f23cd9be96a5ffe...</td>\n",
       "    </tr>\n",
       "    <tr>\n",
       "      <th>1</th>\n",
       "      <td>cb88a7cb0e4ead78d0b57f23cd9be96a5ffeb60f</td>\n",
       "      <td>C_kwDOIHyCS9oAKGNiODhhN2NiMGU0ZWFkNzhkMGI1N2Yy...</td>\n",
       "      <td>{'author': {'name': 'Teresa Salvador', 'email'...</td>\n",
       "      <td>https://api.github.com/repos/tesalv/lab-list-c...</td>\n",
       "      <td>https://github.com/tesalv/lab-list-comprehensi...</td>\n",
       "      <td>https://api.github.com/repos/tesalv/lab-list-c...</td>\n",
       "      <td>{'login': 'tesalv', 'id': 90050968, 'node_id':...</td>\n",
       "      <td>{'login': 'tesalv', 'id': 90050968, 'node_id':...</td>\n",
       "      <td>[{'sha': '8949a53afaeae22f5ce7eba669b73c4479c9...</td>\n",
       "    </tr>\n",
       "    <tr>\n",
       "      <th>2</th>\n",
       "      <td>8949a53afaeae22f5ce7eba669b73c4479c93542</td>\n",
       "      <td>MDY6Q29tbWl0NTQ1MDMwNzMxOjg5NDlhNTNhZmFlYWUyMm...</td>\n",
       "      <td>{'author': {'name': 'carlosmd14', 'email': 'ca...</td>\n",
       "      <td>https://api.github.com/repos/tesalv/lab-list-c...</td>\n",
       "      <td>https://github.com/tesalv/lab-list-comprehensi...</td>\n",
       "      <td>https://api.github.com/repos/tesalv/lab-list-c...</td>\n",
       "      <td>{'login': 'Madrizing', 'id': 45972288, 'node_i...</td>\n",
       "      <td>{'login': 'Madrizing', 'id': 45972288, 'node_i...</td>\n",
       "      <td>[{'sha': '5621b3256668f9a15172d79124be70933fab...</td>\n",
       "    </tr>\n",
       "    <tr>\n",
       "      <th>3</th>\n",
       "      <td>5621b3256668f9a15172d79124be70933faba2d9</td>\n",
       "      <td>MDY6Q29tbWl0NTQ1MDMwNzMxOjU2MjFiMzI1NjY2OGY5YT...</td>\n",
       "      <td>{'author': {'name': 'carlosmd14', 'email': 'ca...</td>\n",
       "      <td>https://api.github.com/repos/tesalv/lab-list-c...</td>\n",
       "      <td>https://github.com/tesalv/lab-list-comprehensi...</td>\n",
       "      <td>https://api.github.com/repos/tesalv/lab-list-c...</td>\n",
       "      <td>{'login': 'Madrizing', 'id': 45972288, 'node_i...</td>\n",
       "      <td>{'login': 'Madrizing', 'id': 45972288, 'node_i...</td>\n",
       "      <td>[{'sha': '80d757c463929428fcc3257b8f48d811a66d...</td>\n",
       "    </tr>\n",
       "    <tr>\n",
       "      <th>4</th>\n",
       "      <td>80d757c463929428fcc3257b8f48d811a66dc6cc</td>\n",
       "      <td>MDY6Q29tbWl0NTQ1MDMwNzMxOjgwZDc1N2M0NjM5Mjk0Mj...</td>\n",
       "      <td>{'author': {'name': 'carlosmd14', 'email': 'ca...</td>\n",
       "      <td>https://api.github.com/repos/tesalv/lab-list-c...</td>\n",
       "      <td>https://github.com/tesalv/lab-list-comprehensi...</td>\n",
       "      <td>https://api.github.com/repos/tesalv/lab-list-c...</td>\n",
       "      <td>{'login': 'Madrizing', 'id': 45972288, 'node_i...</td>\n",
       "      <td>{'login': 'Madrizing', 'id': 45972288, 'node_i...</td>\n",
       "      <td>[]</td>\n",
       "    </tr>\n",
       "  </tbody>\n",
       "</table>\n",
       "</div>"
      ],
      "text/plain": [
       "                                        sha  \\\n",
       "0  6bda218d6c132c935162b6856eb18b48d997765b   \n",
       "1  cb88a7cb0e4ead78d0b57f23cd9be96a5ffeb60f   \n",
       "2  8949a53afaeae22f5ce7eba669b73c4479c93542   \n",
       "3  5621b3256668f9a15172d79124be70933faba2d9   \n",
       "4  80d757c463929428fcc3257b8f48d811a66dc6cc   \n",
       "\n",
       "                                             node_id  \\\n",
       "0  C_kwDOIHyCS9oAKDZiZGEyMThkNmMxMzJjOTM1MTYyYjY4...   \n",
       "1  C_kwDOIHyCS9oAKGNiODhhN2NiMGU0ZWFkNzhkMGI1N2Yy...   \n",
       "2  MDY6Q29tbWl0NTQ1MDMwNzMxOjg5NDlhNTNhZmFlYWUyMm...   \n",
       "3  MDY6Q29tbWl0NTQ1MDMwNzMxOjU2MjFiMzI1NjY2OGY5YT...   \n",
       "4  MDY6Q29tbWl0NTQ1MDMwNzMxOjgwZDc1N2M0NjM5Mjk0Mj...   \n",
       "\n",
       "                                              commit  \\\n",
       "0  {'author': {'name': 'Teresa Salvador', 'email'...   \n",
       "1  {'author': {'name': 'Teresa Salvador', 'email'...   \n",
       "2  {'author': {'name': 'carlosmd14', 'email': 'ca...   \n",
       "3  {'author': {'name': 'carlosmd14', 'email': 'ca...   \n",
       "4  {'author': {'name': 'carlosmd14', 'email': 'ca...   \n",
       "\n",
       "                                                 url  \\\n",
       "0  https://api.github.com/repos/tesalv/lab-list-c...   \n",
       "1  https://api.github.com/repos/tesalv/lab-list-c...   \n",
       "2  https://api.github.com/repos/tesalv/lab-list-c...   \n",
       "3  https://api.github.com/repos/tesalv/lab-list-c...   \n",
       "4  https://api.github.com/repos/tesalv/lab-list-c...   \n",
       "\n",
       "                                            html_url  \\\n",
       "0  https://github.com/tesalv/lab-list-comprehensi...   \n",
       "1  https://github.com/tesalv/lab-list-comprehensi...   \n",
       "2  https://github.com/tesalv/lab-list-comprehensi...   \n",
       "3  https://github.com/tesalv/lab-list-comprehensi...   \n",
       "4  https://github.com/tesalv/lab-list-comprehensi...   \n",
       "\n",
       "                                        comments_url  \\\n",
       "0  https://api.github.com/repos/tesalv/lab-list-c...   \n",
       "1  https://api.github.com/repos/tesalv/lab-list-c...   \n",
       "2  https://api.github.com/repos/tesalv/lab-list-c...   \n",
       "3  https://api.github.com/repos/tesalv/lab-list-c...   \n",
       "4  https://api.github.com/repos/tesalv/lab-list-c...   \n",
       "\n",
       "                                              author  \\\n",
       "0  {'login': 'tesalv', 'id': 90050968, 'node_id':...   \n",
       "1  {'login': 'tesalv', 'id': 90050968, 'node_id':...   \n",
       "2  {'login': 'Madrizing', 'id': 45972288, 'node_i...   \n",
       "3  {'login': 'Madrizing', 'id': 45972288, 'node_i...   \n",
       "4  {'login': 'Madrizing', 'id': 45972288, 'node_i...   \n",
       "\n",
       "                                           committer  \\\n",
       "0  {'login': 'tesalv', 'id': 90050968, 'node_id':...   \n",
       "1  {'login': 'tesalv', 'id': 90050968, 'node_id':...   \n",
       "2  {'login': 'Madrizing', 'id': 45972288, 'node_i...   \n",
       "3  {'login': 'Madrizing', 'id': 45972288, 'node_i...   \n",
       "4  {'login': 'Madrizing', 'id': 45972288, 'node_i...   \n",
       "\n",
       "                                             parents  \n",
       "0  [{'sha': 'cb88a7cb0e4ead78d0b57f23cd9be96a5ffe...  \n",
       "1  [{'sha': '8949a53afaeae22f5ce7eba669b73c4479c9...  \n",
       "2  [{'sha': '5621b3256668f9a15172d79124be70933fab...  \n",
       "3  [{'sha': '80d757c463929428fcc3257b8f48d811a66d...  \n",
       "4                                                 []  "
      ]
     },
     "execution_count": 37,
     "metadata": {},
     "output_type": "execute_result"
    }
   ],
   "source": [
    "commits=pd.DataFrame(response.json())\n",
    "commits"
   ]
  },
  {
   "cell_type": "code",
   "execution_count": 40,
   "metadata": {},
   "outputs": [
    {
     "data": {
      "text/plain": [
       "5"
      ]
     },
     "execution_count": 40,
     "metadata": {},
     "output_type": "execute_result"
    }
   ],
   "source": [
    "commits[\"commit\"].value_counts().sum()"
   ]
  },
  {
   "cell_type": "code",
   "execution_count": null,
   "metadata": {},
   "outputs": [],
   "source": []
  }
 ],
 "metadata": {
  "kernelspec": {
   "display_name": "Python 3.9.13 ('ironhack')",
   "language": "python",
   "name": "python3"
  },
  "language_info": {
   "codemirror_mode": {
    "name": "ipython",
    "version": 3
   },
   "file_extension": ".py",
   "mimetype": "text/x-python",
   "name": "python",
   "nbconvert_exporter": "python",
   "pygments_lexer": "ipython3",
   "version": "3.9.13"
  },
  "orig_nbformat": 4,
  "vscode": {
   "interpreter": {
    "hash": "4a38339ccb09af62c11572ee1f8d8bf4c38a6a8e49e8be3ae680a571cc75115c"
   }
  }
 },
 "nbformat": 4,
 "nbformat_minor": 2
}
