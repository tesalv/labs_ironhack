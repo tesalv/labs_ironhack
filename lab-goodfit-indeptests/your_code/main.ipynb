{
 "cells": [
  {
   "cell_type": "markdown",
   "metadata": {},
   "source": [
    "## Question 1\n",
    "The following table indicates the number of 6-point scores in an American rugby match in the 1979 season.\n",
    "\n",
    "![](table1.png)\n",
    "\n",
    "Based on these results, we create a Poisson distribution with the sample mean parameter  = 2.435. Is there any reason to believe that at a .05 level the number of scores is a Poisson variable?"
   ]
  },
  {
   "cell_type": "code",
   "execution_count": 4,
   "metadata": {},
   "outputs": [],
   "source": [
    "import numpy as np\n",
    "import scipy.stats as st"
   ]
  },
  {
   "cell_type": "code",
   "execution_count": 20,
   "metadata": {},
   "outputs": [
    {
     "data": {
      "text/plain": [
       "Power_divergenceResult(statistic=6.491310681109792, pvalue=0.48368890685373034)"
      ]
     },
     "execution_count": 20,
     "metadata": {},
     "output_type": "execute_result"
    }
   ],
   "source": [
    "# your answer here\n",
    "\n",
    "#HO: dis ~ POISSON(x_hat=2.435)\n",
    "#H1: dist !~ POISSON(x_hat=2.435)\n",
    "\n",
    "#2. SIGNIFICANCE LEVEL\n",
    "alpha = 0.05\n",
    "\n",
    "#3. SAMPLE\n",
    "o = [35,99,104,110,62,25,10,3]\n",
    "\n",
    "\n",
    "## COMPUTING THE EXPECTED VALUES UNDER H0\n",
    "\n",
    "#3.5.1 Geting the pmf of all possible cenarios ##\n",
    "from scipy.stats import poisson\n",
    "\n",
    "lamb = 2.435 ## mean\n",
    "\n",
    "poisson_dist=poisson(lamb)\n",
    "\n",
    "poisson_pmf = np.array([poisson_dist.pmf(i) for i in range(0,7)])\n",
    "\n",
    "#print(poisson_pmf)\n",
    "\n",
    "# 3.1.2 Getting the probability of getting a value equal or bigger than 7\n",
    "with_tail = np.append(poisson_pmf, poisson_dist.sf(6))\n",
    "#print(with_tail)\n",
    "# 3.1.3 Compute expected values\n",
    "E = with_tail * 448\n",
    "\n",
    "st.chisquare(f_obs=o, f_exp=E)\n"
   ]
  },
  {
   "cell_type": "code",
   "execution_count": 21,
   "metadata": {},
   "outputs": [
    {
     "data": {
      "text/plain": [
       "False"
      ]
     },
     "execution_count": 21,
     "metadata": {},
     "output_type": "execute_result"
    }
   ],
   "source": [
    "0.48368890685373034<alpha\n",
    "\n",
    "## we don't reject the null "
   ]
  },
  {
   "cell_type": "markdown",
   "metadata": {},
   "source": [
    "## BONUS/OPTIONAL - Question 2\n",
    "Let's analyze a discrete distribution. To analyze the number of defective items in a factory in the city of Medellín, we took a random sample of n = 60 articles and observed the number of defectives in the following table:\n",
    "\n",
    "![](table2.png)\n",
    "\n",
    "A poissón distribution was proposed since it is defined for x = 0,1,2,3, .... using the following model:\n",
    "\n",
    "![](image1.png)\n",
    "\n",
    "For some extra insights check the following link: https://online.stat.psu.edu/stat504/node/63/ \n",
    "\n",
    "Does the distribution of defective items follow this distribution?"
   ]
  },
  {
   "cell_type": "code",
   "execution_count": null,
   "metadata": {},
   "outputs": [],
   "source": [
    "# your code here"
   ]
  },
  {
   "cell_type": "markdown",
   "metadata": {},
   "source": [
    "## Question 3\n",
    "A quality control engineer takes a sample of 10 tires that come out of an assembly line, and would like to verify on the basis of the data that follows, if the number of tires with defects observed over 200 days, if it is true that 5% of all tires have defects (that is, if the sample comes from a binomial population with n = 10 and p = 0.05). \n",
    "\n",
    "![](table3.png)\n"
   ]
  },
  {
   "cell_type": "code",
   "execution_count": 18,
   "metadata": {},
   "outputs": [
    {
     "name": "stdout",
     "output_type": "stream",
     "text": [
      "[0.59873694 0.3151247 ]\n"
     ]
    },
    {
     "data": {
      "text/plain": [
       "Power_divergenceResult(statistic=8.30617951954277, pvalue=0.015715783395951168)"
      ]
     },
     "execution_count": 18,
     "metadata": {},
     "output_type": "execute_result"
    }
   ],
   "source": [
    "# your answer here\n",
    "import scipy.stats as st\n",
    "from scipy.stats import binom\n",
    "\n",
    "#1. SET THE HYPOTHESIS\n",
    "\n",
    "#HO: dis ~ BINOM(n=10,p=0.05)\n",
    "#H1: dist !~ BINOM(n=10,p=0.05)\n",
    "\n",
    "#2. SIGNIFICANCE LEVEL\n",
    "alpha = 0.05\n",
    "\n",
    "#3. SAMPLE\n",
    "o = [138,53,9]\n",
    "\n",
    "## COMPUTING THE EXPECTED VALUES UNDER H0\n",
    "\n",
    "#3.5.1 Geting the pmf of all possible cenarios ##\n",
    "\n",
    "p=0.05\n",
    "n = 10 \n",
    "binom_dist=binom(n,p)\n",
    "\n",
    "\n",
    "binom_pmf=np.array([binom_dist.pmf(i) for i in  range(0,2)])\n",
    "print(binom_pmf)\n",
    "\n",
    "# 3.1.2 Getting the probability of getting a value equal or bigger than 2\n",
    "with_tail = np.append(binom_pmf, binom_dist.sf(1))\n",
    "with_tail\n",
    "# 3.1.3 Compute expected values\n",
    "E = with_tail * 200\n",
    "\n",
    "st.chisquare(f_obs=o, f_exp=E)"
   ]
  },
  {
   "cell_type": "code",
   "execution_count": 22,
   "metadata": {},
   "outputs": [
    {
     "data": {
      "text/plain": [
       "True"
      ]
     },
     "execution_count": 22,
     "metadata": {},
     "output_type": "execute_result"
    }
   ],
   "source": [
    "0.015715783395951168 < alpha\n",
    "\n",
    "#we reject the null "
   ]
  },
  {
   "cell_type": "markdown",
   "metadata": {},
   "source": [
    "## Question 4\n",
    "A researcher gathers information about the patterns of Physical Activity of children in the fifth grade of primary school of a public school. He defines three categories of physical activity (Low, Medium, High). He also inquires about the regular consumption of sugary drinks at school, and defines two categories (Yes = consumed, No = not consumed). We would like to evaluate if there is an association between patterns of physical activity and the consumption of sugary drinks for the children of this school, at a level of 5% significance. The results are in the following table: \n",
    "\n",
    "![](table4.png)"
   ]
  },
  {
   "cell_type": "code",
   "execution_count": 23,
   "metadata": {},
   "outputs": [
    {
     "data": {
      "text/plain": [
       "(10.712198008709638,\n",
       " 0.004719280137040844,\n",
       " 2,\n",
       " array([[24.08421053, 19.91578947],\n",
       "        [19.70526316, 16.29473684],\n",
       "        [ 8.21052632,  6.78947368]]))"
      ]
     },
     "execution_count": 23,
     "metadata": {},
     "output_type": "execute_result"
    }
   ],
   "source": [
    "#your answer here\n",
    "\n",
    "# TEST OF ASSOCIATION\n",
    "\n",
    "#1. SET THE HYPOTHESIS\n",
    "\n",
    "##HO: the physical activity is independent of the sugary drinks consumption\n",
    "## H1: the physical activity is DEPENDENT of the sugary drinks consumption\n",
    "\n",
    "#2. SIGNIFICANT LEVEL\n",
    "alpha = 0.05\n",
    "\n",
    "#3. sample\n",
    "\n",
    "sugary_physical = np.array([\n",
    "                [32,12],\n",
    "                [14,22],\n",
    "                [6,9]                \n",
    "                        ])\n",
    "\n",
    "#4 5. COMPUTE THE STATISTIC AND P_VALUE\n",
    "st.chi2_contingency(sugary_physical)\n"
   ]
  },
  {
   "cell_type": "code",
   "execution_count": 24,
   "metadata": {},
   "outputs": [
    {
     "data": {
      "text/plain": [
       "True"
      ]
     },
     "execution_count": 24,
     "metadata": {},
     "output_type": "execute_result"
    }
   ],
   "source": [
    " 0.004719280137040844<alpha"
   ]
  },
  {
   "cell_type": "code",
   "execution_count": null,
   "metadata": {},
   "outputs": [],
   "source": [
    "# 6. DECISION\n",
    "\n",
    "## IT SEEMS THAT PHYSICAL ACTIVITY INFLUENCE SUGAR CONSUMPTION\n",
    "## SO WE HAVE GATHERED ENOUGH EVIDENCE TO BELIEVE WITH TA CONFIDENCE OF 95% "
   ]
  }
 ],
 "metadata": {
  "kernelspec": {
   "display_name": "Python ('ironhack')",
   "language": "python",
   "name": "python3"
  },
  "language_info": {
   "codemirror_mode": {
    "name": "ipython",
    "version": 3
   },
   "file_extension": ".py",
   "mimetype": "text/x-python",
   "name": "python",
   "nbconvert_exporter": "python",
   "pygments_lexer": "ipython3",
   "version": ""
  },
  "vscode": {
   "interpreter": {
    "hash": "25a19fbe0a9132dfb9279d48d161753c6352f8f9478c2e74383d340069b907c3"
   }
  }
 },
 "nbformat": 4,
 "nbformat_minor": 2
}
